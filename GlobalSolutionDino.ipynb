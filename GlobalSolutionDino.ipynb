{
  "nbformat": 4,
  "nbformat_minor": 0,
  "metadata": {
    "colab": {
      "name": "GlobalSolutionDino.ipynb",
      "provenance": []
    },
    "kernelspec": {
      "name": "python3",
      "display_name": "Python 3"
    },
    "language_info": {
      "name": "python"
    }
  },
  "cells": [
    {
      "cell_type": "code",
      "metadata": {
        "id": "TSN-ZmxEGsZ0"
      },
      "source": [
        "import pandas as pd\n",
        "import numpy as np\n",
        "import matplotlib.pyplot as plt\n",
        "import seaborn as sns\n",
        "\n",
        "\n",
        "#Padronização\n",
        "from sklearn.preprocessing import LabelEncoder\n",
        "from sklearn.preprocessing import OneHotEncoder\n",
        "from sklearn.preprocessing import StandardScaler\n",
        "import imblearn\n",
        "\n",
        "#treino\n",
        "from sklearn.model_selection import train_test_split\n",
        "\n",
        "#Modelos\n",
        "from sklearn.linear_model import LogisticRegression\n",
        "from sklearn.ensemble import RandomForestClassifier\n",
        "from sklearn.neighbors import KNeighborsClassifier\n",
        "from sklearn.linear_model import Perceptron\n",
        "from sklearn.neural_network import MLPClassifier\n",
        "\n",
        "#Metricas\n",
        "from sklearn.metrics import accuracy_score\n",
        "from sklearn.metrics import confusion_matrix\n",
        "\n",
        "\n",
        "#Ignorar warning\n",
        "import warnings\n",
        "warnings.filterwarnings('ignore')"
      ],
      "execution_count": 10,
      "outputs": []
    },
    {
      "cell_type": "code",
      "metadata": {
        "id": "umfu5wxhHBxL"
      },
      "source": [
        "df = pd.read_csv(\"dataset_tomate.csv\")"
      ],
      "execution_count": 11,
      "outputs": []
    },
    {
      "cell_type": "code",
      "metadata": {
        "id": "Lz2B6jLmHTrR",
        "colab": {
          "base_uri": "https://localhost:8080/",
          "height": 224
        },
        "outputId": "e2338cc3-1e1d-40fe-a4de-2915afad10f6"
      },
      "source": [
        "df.head(5)"
      ],
      "execution_count": 12,
      "outputs": [
        {
          "output_type": "execute_result",
          "data": {
            "text/html": [
              "<div>\n",
              "<style scoped>\n",
              "    .dataframe tbody tr th:only-of-type {\n",
              "        vertical-align: middle;\n",
              "    }\n",
              "\n",
              "    .dataframe tbody tr th {\n",
              "        vertical-align: top;\n",
              "    }\n",
              "\n",
              "    .dataframe thead th {\n",
              "        text-align: right;\n",
              "    }\n",
              "</style>\n",
              "<table border=\"1\" class=\"dataframe\">\n",
              "  <thead>\n",
              "    <tr style=\"text-align: right;\">\n",
              "      <th></th>\n",
              "      <th>id</th>\n",
              "      <th>trat</th>\n",
              "      <th>NDVI_d28</th>\n",
              "      <th>SAVI_d28</th>\n",
              "      <th>GNDVI_d28</th>\n",
              "      <th>MCARI1_d28</th>\n",
              "      <th>SR_d28</th>\n",
              "      <th>NDVI_d01</th>\n",
              "      <th>SAVI_d01</th>\n",
              "      <th>GNDVI_d01</th>\n",
              "      <th>MCARI1_d01</th>\n",
              "      <th>SR_d01</th>\n",
              "      <th>NDVI_d04</th>\n",
              "      <th>SAVI_d04</th>\n",
              "      <th>GNDVI_d04</th>\n",
              "      <th>MCARI1_d04</th>\n",
              "      <th>SR_d04</th>\n",
              "      <th>NDVI_d08</th>\n",
              "      <th>SAVI_d08</th>\n",
              "      <th>GNDVI_d08</th>\n",
              "      <th>MCARI1_d08</th>\n",
              "      <th>SR_d08</th>\n",
              "      <th>Classe</th>\n",
              "    </tr>\n",
              "  </thead>\n",
              "  <tbody>\n",
              "    <tr>\n",
              "      <th>0</th>\n",
              "      <td>1</td>\n",
              "      <td>102</td>\n",
              "      <td>0.798284</td>\n",
              "      <td>1.197380</td>\n",
              "      <td>0.692652</td>\n",
              "      <td>16710.29721</td>\n",
              "      <td>9.728142</td>\n",
              "      <td>0.729767</td>\n",
              "      <td>1.094620</td>\n",
              "      <td>0.698726</td>\n",
              "      <td>21499.94698</td>\n",
              "      <td>6.907142</td>\n",
              "      <td>0.713179</td>\n",
              "      <td>1.069718</td>\n",
              "      <td>0.662425</td>\n",
              "      <td>13090.11459</td>\n",
              "      <td>6.216968</td>\n",
              "      <td>0.684125</td>\n",
              "      <td>1.026146</td>\n",
              "      <td>0.636865</td>\n",
              "      <td>13352.81776</td>\n",
              "      <td>5.421333</td>\n",
              "      <td>1</td>\n",
              "    </tr>\n",
              "    <tr>\n",
              "      <th>1</th>\n",
              "      <td>2</td>\n",
              "      <td>11</td>\n",
              "      <td>0.806955</td>\n",
              "      <td>1.210392</td>\n",
              "      <td>0.705323</td>\n",
              "      <td>19513.85630</td>\n",
              "      <td>10.557411</td>\n",
              "      <td>0.774359</td>\n",
              "      <td>1.161514</td>\n",
              "      <td>0.717367</td>\n",
              "      <td>30041.91766</td>\n",
              "      <td>8.531835</td>\n",
              "      <td>0.777758</td>\n",
              "      <td>1.166604</td>\n",
              "      <td>0.680269</td>\n",
              "      <td>22731.09954</td>\n",
              "      <td>8.380453</td>\n",
              "      <td>0.725521</td>\n",
              "      <td>1.088240</td>\n",
              "      <td>0.669113</td>\n",
              "      <td>16190.82038</td>\n",
              "      <td>6.491860</td>\n",
              "      <td>0</td>\n",
              "    </tr>\n",
              "    <tr>\n",
              "      <th>2</th>\n",
              "      <td>3</td>\n",
              "      <td>103</td>\n",
              "      <td>0.825104</td>\n",
              "      <td>1.237610</td>\n",
              "      <td>0.708468</td>\n",
              "      <td>18074.06986</td>\n",
              "      <td>11.141408</td>\n",
              "      <td>0.786941</td>\n",
              "      <td>1.180385</td>\n",
              "      <td>0.730471</td>\n",
              "      <td>29312.17626</td>\n",
              "      <td>8.982521</td>\n",
              "      <td>0.730708</td>\n",
              "      <td>1.096008</td>\n",
              "      <td>0.680238</td>\n",
              "      <td>12330.21702</td>\n",
              "      <td>6.670915</td>\n",
              "      <td>0.728171</td>\n",
              "      <td>1.092214</td>\n",
              "      <td>0.655206</td>\n",
              "      <td>15313.16198</td>\n",
              "      <td>6.551268</td>\n",
              "      <td>1</td>\n",
              "    </tr>\n",
              "    <tr>\n",
              "      <th>3</th>\n",
              "      <td>4</td>\n",
              "      <td>112</td>\n",
              "      <td>0.788884</td>\n",
              "      <td>1.183279</td>\n",
              "      <td>0.664787</td>\n",
              "      <td>16226.23017</td>\n",
              "      <td>8.990752</td>\n",
              "      <td>0.743874</td>\n",
              "      <td>1.115782</td>\n",
              "      <td>0.690141</td>\n",
              "      <td>22610.47885</td>\n",
              "      <td>7.109600</td>\n",
              "      <td>0.707999</td>\n",
              "      <td>1.061948</td>\n",
              "      <td>0.644786</td>\n",
              "      <td>12085.07787</td>\n",
              "      <td>6.017714</td>\n",
              "      <td>0.728161</td>\n",
              "      <td>1.092201</td>\n",
              "      <td>0.640739</td>\n",
              "      <td>16562.17418</td>\n",
              "      <td>6.608121</td>\n",
              "      <td>1</td>\n",
              "    </tr>\n",
              "    <tr>\n",
              "      <th>4</th>\n",
              "      <td>5</td>\n",
              "      <td>114</td>\n",
              "      <td>0.764986</td>\n",
              "      <td>1.147432</td>\n",
              "      <td>0.673490</td>\n",
              "      <td>14920.80711</td>\n",
              "      <td>8.269806</td>\n",
              "      <td>0.715948</td>\n",
              "      <td>1.073894</td>\n",
              "      <td>0.695619</td>\n",
              "      <td>22002.08151</td>\n",
              "      <td>6.447621</td>\n",
              "      <td>0.688155</td>\n",
              "      <td>1.032176</td>\n",
              "      <td>0.660206</td>\n",
              "      <td>10053.17885</td>\n",
              "      <td>5.571702</td>\n",
              "      <td>0.694320</td>\n",
              "      <td>1.041437</td>\n",
              "      <td>0.642373</td>\n",
              "      <td>13760.95583</td>\n",
              "      <td>5.665567</td>\n",
              "      <td>1</td>\n",
              "    </tr>\n",
              "  </tbody>\n",
              "</table>\n",
              "</div>"
            ],
            "text/plain": [
              "   id  trat  NDVI_d28  SAVI_d28  ...  GNDVI_d08   MCARI1_d08    SR_d08  Classe\n",
              "0   1   102  0.798284  1.197380  ...   0.636865  13352.81776  5.421333       1\n",
              "1   2    11  0.806955  1.210392  ...   0.669113  16190.82038  6.491860       0\n",
              "2   3   103  0.825104  1.237610  ...   0.655206  15313.16198  6.551268       1\n",
              "3   4   112  0.788884  1.183279  ...   0.640739  16562.17418  6.608121       1\n",
              "4   5   114  0.764986  1.147432  ...   0.642373  13760.95583  5.665567       1\n",
              "\n",
              "[5 rows x 23 columns]"
            ]
          },
          "metadata": {},
          "execution_count": 12
        }
      ]
    },
    {
      "cell_type": "code",
      "metadata": {
        "id": "KBbOhfnnHUeK",
        "colab": {
          "base_uri": "https://localhost:8080/"
        },
        "outputId": "eb16fe88-42ff-4e7e-c4c3-3377f87ca8a5"
      },
      "source": [
        "df. info()"
      ],
      "execution_count": 13,
      "outputs": [
        {
          "output_type": "stream",
          "name": "stdout",
          "text": [
            "<class 'pandas.core.frame.DataFrame'>\n",
            "RangeIndex: 132 entries, 0 to 131\n",
            "Data columns (total 23 columns):\n",
            " #   Column      Non-Null Count  Dtype  \n",
            "---  ------      --------------  -----  \n",
            " 0   id          132 non-null    int64  \n",
            " 1   trat        132 non-null    int64  \n",
            " 2   NDVI_d28    132 non-null    float64\n",
            " 3   SAVI_d28    132 non-null    float64\n",
            " 4   GNDVI_d28   132 non-null    float64\n",
            " 5   MCARI1_d28  132 non-null    float64\n",
            " 6   SR_d28      132 non-null    float64\n",
            " 7   NDVI_d01    132 non-null    float64\n",
            " 8   SAVI_d01    132 non-null    float64\n",
            " 9   GNDVI_d01   132 non-null    float64\n",
            " 10  MCARI1_d01  132 non-null    float64\n",
            " 11  SR_d01      132 non-null    float64\n",
            " 12  NDVI_d04    132 non-null    float64\n",
            " 13  SAVI_d04    132 non-null    float64\n",
            " 14  GNDVI_d04   132 non-null    float64\n",
            " 15  MCARI1_d04  132 non-null    float64\n",
            " 16  SR_d04      132 non-null    float64\n",
            " 17  NDVI_d08    132 non-null    float64\n",
            " 18  SAVI_d08    132 non-null    float64\n",
            " 19  GNDVI_d08   132 non-null    float64\n",
            " 20  MCARI1_d08  132 non-null    float64\n",
            " 21  SR_d08      132 non-null    float64\n",
            " 22  Classe      132 non-null    int64  \n",
            "dtypes: float64(20), int64(3)\n",
            "memory usage: 23.8 KB\n"
          ]
        }
      ]
    },
    {
      "cell_type": "code",
      "metadata": {
        "id": "pG5yFsavIN7_"
      },
      "source": [
        "# Separando os dados em train test split\n",
        "\n",
        "X = df.drop(columns=[\"id\", \"Classe\"])\n",
        "\n",
        "y = df['Classe']\n",
        "\n",
        "X_train, X_test, y_train, y_test = train_test_split(X, y, test_size = 0.2, random_state = 42)"
      ],
      "execution_count": 14,
      "outputs": []
    },
    {
      "cell_type": "code",
      "metadata": {
        "id": "WYuNAa6KHVEp"
      },
      "source": [
        "# Escalando os dados para uma melhor padronização de alguns valores\n",
        "\n",
        "scaler = StandardScaler()\n",
        "\n",
        "x_train_scaled = scaler.fit_transform(X_train)\n",
        "x_test_scaled = scaler.transform(X_test)"
      ],
      "execution_count": 15,
      "outputs": []
    },
    {
      "cell_type": "code",
      "metadata": {
        "id": "PTi0_-YJI-Gb"
      },
      "source": [
        "# Montando as funções dos modelos\n",
        "\n",
        "def mlp(x_test, x_train, y_test, y_train):\n",
        "  perceptron = MLPClassifier(hidden_layer_sizes=(10, 5), random_state = 42, solver='lbfgs')\n",
        "  perceptron.fit(x_train, y_train)\n",
        "  print(f\"Accuracy score: {round( accuracy_score(perceptron.predict(x_test), y_test), 2)}\")\n",
        "  print(\"\")\n",
        "  print(\"Matriz de confusão: \")\n",
        "  cm = confusion_matrix(perceptron.predict(x_test), y_test)\n",
        "  sns.heatmap(cm, annot=True)\n",
        "\n",
        "def perceptron(x_test, x_train, y_test, y_train):\n",
        "  perceptron = Perceptron()\n",
        "  perceptron.fit(x_train, y_train)\n",
        "  print(f\"Accuracy score: {round( accuracy_score(perceptron.predict(x_test), y_test), 2)}\")\n",
        "  print(\"\")\n",
        "  print(\"Matriz de confusão: \")\n",
        "  cm = confusion_matrix(perceptron.predict(x_test), y_test)\n",
        "  sns.heatmap(cm, annot=True)"
      ],
      "execution_count": 16,
      "outputs": []
    },
    {
      "cell_type": "code",
      "metadata": {
        "id": "MmPcytVkPW6W",
        "colab": {
          "base_uri": "https://localhost:8080/",
          "height": 320
        },
        "outputId": "42d724a3-15ef-48fb-bc6f-e291106dff30"
      },
      "source": [
        "perceptron(x_test_scaled, x_train_scaled, y_test, y_train)"
      ],
      "execution_count": 17,
      "outputs": [
        {
          "output_type": "stream",
          "name": "stdout",
          "text": [
            "Accuracy score: 0.93\n",
            "\n",
            "Matriz de confusão: \n"
          ]
        },
        {
          "output_type": "display_data",
          "data": {
            "image/png": "[encoded data removed]",
            "text/plain": [
              "<Figure size 432x288 with 2 Axes>"
            ]
          },
          "metadata": {
            "needs_background": "light"
          }
        }
      ]
    },
    {
      "cell_type": "code",
      "metadata": {
        "id": "ttpTZoZ22ydJ"
      },
      "source": [
        ""
      ],
      "execution_count": 9,
      "outputs": []
    }
  ]
}